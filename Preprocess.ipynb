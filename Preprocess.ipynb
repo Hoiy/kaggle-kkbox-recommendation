{
 "cells": [
  {
   "cell_type": "code",
   "execution_count": 1,
   "metadata": {},
   "outputs": [],
   "source": [
    "import datetime\n",
    "import numpy as np\n",
    "import pandas as pd\n",
    "import matplotlib.pyplot as plt\n",
    "\n",
    "from sklearn.preprocessing import LabelEncoder, StandardScaler"
   ]
  },
  {
   "cell_type": "code",
   "execution_count": 2,
   "metadata": {},
   "outputs": [],
   "source": [
    "train = pd.read_csv('./data/train.csv')\n",
    "test = pd.read_csv('./data/test.csv')\n",
    "songs = pd.read_csv('./data/songs.csv')\n",
    "users = pd.read_csv('./data/members.csv')"
   ]
  },
  {
   "cell_type": "code",
   "execution_count": 3,
   "metadata": {},
   "outputs": [],
   "source": [
    "train = pd.merge(train, songs, how='left', on='song_id')\n",
    "test = pd.merge(test, songs, how='left', on='song_id')"
   ]
  },
  {
   "cell_type": "code",
   "execution_count": 4,
   "metadata": {},
   "outputs": [],
   "source": [
    "train = pd.merge(train, users, how='left', on='msno')\n",
    "test = pd.merge(test, users, how='left', on='msno')"
   ]
  },
  {
   "cell_type": "code",
   "execution_count": 5,
   "metadata": {},
   "outputs": [],
   "source": [
    "def encode_column(col_name):\n",
    "    train[col_name] = train[col_name].astype(str)\n",
    "    test[col_name] = test[col_name].astype(str)\n",
    "    encoder = LabelEncoder()\n",
    "    encoder.fit(train[col_name].append(test[col_name]))\n",
    "    train[col_name] = encoder.transform(train[col_name])\n",
    "    test[col_name] = encoder.transform(test[col_name])\n",
    "    return int(max(train[col_name].max(), test[col_name].max()) + 1)"
   ]
  },
  {
   "cell_type": "code",
   "execution_count": 6,
   "metadata": {},
   "outputs": [],
   "source": [
    "def encode_skewed(col_name):\n",
    "    train[col_name+'_invalid'] = train[col_name] <= 1\n",
    "    train[col_name+'_invalid'].astype(int)\n",
    "    \n",
    "    test[col_name+'_invalid'] = test[col_name] <= 1\n",
    "    test[col_name+'_invalid'].astype(int)\n",
    "    \n",
    "    train[col_name+'_norm'] = np.log(np.maximum(1, train[col_name]))\n",
    "    test[col_name+'_norm'] = np.log(np.maximum(1, test[col_name]))\n",
    "    \n",
    "    encoder = StandardScaler()\n",
    "    data = train[col_name+'_norm'][train[col_name+'_norm'] > 0].append(test[col_name+'_norm'][test[col_name+'_norm'] > 0])\n",
    "    encoder.fit(data.values.reshape(-1, 1))\n",
    "    \n",
    "    train[col_name+'_norm'] = encoder.transform(train[col_name+'_norm'].values.reshape(-1, 1))\n",
    "    test[col_name+'_norm'] = encoder.transform(test[col_name+'_norm'].values.reshape(-1, 1))\n",
    "    \n",
    "    train[col_name+'_norm'] = train[col_name+'_norm'].apply(lambda x: 0 if x <= -10 else x)\n",
    "    test[col_name+'_norm'] = test[col_name+'_norm'].apply(lambda x: 0 if x <= -10 else x)\n",
    "    \n",
    "    train[col_name+'_norm'].hist(bins=100)\n",
    "    test[col_name+'_norm'].hist(bins=100)\n",
    "    plt.show()"
   ]
  },
  {
   "cell_type": "code",
   "execution_count": 7,
   "metadata": {},
   "outputs": [],
   "source": [
    "def encode_song_length():\n",
    "    col_name = 'song_length'\n",
    "    \n",
    "    train[col_name] = train[col_name].fillna(0)\n",
    "    test[col_name] = test[col_name].fillna(0)\n",
    "    \n",
    "    encoder = StandardScaler()\n",
    "    data = train['song_length'].append(test['song_length'])\n",
    "    encoder.fit(data.values.reshape(-1, 1))\n",
    "\n",
    "    train[col_name+'_norm'] = encoder.transform(train[col_name].values.reshape(-1, 1))\n",
    "    test[col_name+'_norm'] = encoder.transform(test[col_name].values.reshape(-1, 1))\n",
    "    \n",
    "    train[col_name+'_norm'].hist(bins=100)\n",
    "    test[col_name+'_norm'].hist(bins=100)\n",
    "    \n",
    "    plt.show()"
   ]
  },
  {
   "cell_type": "code",
   "execution_count": 8,
   "metadata": {},
   "outputs": [
    {
     "data": {
      "image/png": "[encoded data removed]",
      "text/plain": [
       "<matplotlib.figure.Figure at 0x7faffe72f860>"
      ]
     },
     "metadata": {},
     "output_type": "display_data"
    }
   ],
   "source": [
    "encode_song_length()"
   ]
  },
  {
   "cell_type": "code",
   "execution_count": 9,
   "metadata": {},
   "outputs": [
    {
     "data": {
      "image/png": "[encoded data removed]",
      "text/plain": [
       "<matplotlib.figure.Figure at 0x7fb014f69e10>"
      ]
     },
     "metadata": {},
     "output_type": "display_data"
    }
   ],
   "source": [
    "encode_skewed('bd')"
   ]
  },
  {
   "cell_type": "code",
   "execution_count": 10,
   "metadata": {
    "scrolled": true
   },
   "outputs": [
    {
     "name": "stdout",
     "output_type": "stream",
     "text": [
      "Encoding source_system_tab...\n",
      "Encoding source_screen_name...\n",
      "Encoding source_type...\n",
      "Encoding song_id...\n",
      "Encoding genre_ids...\n",
      "Encoding artist_name...\n",
      "Encoding composer...\n",
      "Encoding lyricist...\n",
      "Encoding language...\n",
      "Encoding msno...\n",
      "Encoding city...\n",
      "Encoding gender...\n",
      "Encoding registered_via...\n",
      "Encoding bd_invalid...\n"
     ]
    }
   ],
   "source": [
    "SONG_FEAT = ['song_id', 'genre_ids', 'artist_name', 'composer', 'lyricist', 'language']\n",
    "USER_FEAT = [ 'msno', 'city', 'gender', 'registered_via', 'bd_invalid']\n",
    "SOURCE_FEAT = ['source_system_tab', 'source_screen_name', 'source_type']\n",
    "\n",
    "label_columns = SOURCE_FEAT + SONG_FEAT + USER_FEAT\n",
    "label_count = {}\n",
    "for k in label_columns:\n",
    "    print('Encoding {}...'.format(k))\n",
    "    label_count[k] = encode_column(k)"
   ]
  },
  {
   "cell_type": "code",
   "execution_count": 11,
   "metadata": {},
   "outputs": [],
   "source": [
    "train.to_csv('data/train_features.csv')\n",
    "test.to_csv('data/test_features.csv')"
   ]
  },
  {
   "cell_type": "code",
   "execution_count": null,
   "metadata": {},
   "outputs": [],
   "source": []
  }
 ],
 "metadata": {
  "kernelspec": {
   "display_name": "Python 3",
   "language": "python",
   "name": "python3"
  },
  "language_info": {
   "codemirror_mode": {
    "name": "ipython",
    "version": 3
   },
   "file_extension": ".py",
   "mimetype": "text/x-python",
   "name": "python",
   "nbconvert_exporter": "python",
   "pygments_lexer": "ipython3",
   "version": "3.5.2+"
  }
 },
 "nbformat": 4,
 "nbformat_minor": 2
}
